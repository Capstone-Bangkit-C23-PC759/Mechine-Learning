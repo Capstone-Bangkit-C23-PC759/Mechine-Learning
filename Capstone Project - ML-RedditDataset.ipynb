{
 "cells": [
  {
   "cell_type": "code",
   "execution_count": 2,
   "id": "8ed3322c",
   "metadata": {},
   "outputs": [],
   "source": [
    "import pandas as pd\n",
    "import numpy as np\n",
    "import matplotlib.pyplot as plt\n",
    "import tensorflow as tf"
   ]
  },
  {
   "cell_type": "markdown",
   "id": "8c5e7e1a",
   "metadata": {},
   "source": [
    "## Pre-processing Dataset"
   ]
  },
  {
   "cell_type": "markdown",
   "id": "46d56cd6",
   "metadata": {},
   "source": [
    "LINK DATASET : https://www.kaggle.com/datasets/infamouscoder/depression-reddit-cleaned"
   ]
  },
  {
   "cell_type": "code",
   "execution_count": 3,
   "id": "975f346f",
   "metadata": {
    "scrolled": true
   },
   "outputs": [
    {
     "data": {
      "text/html": [
       "<div>\n",
       "<style scoped>\n",
       "    .dataframe tbody tr th:only-of-type {\n",
       "        vertical-align: middle;\n",
       "    }\n",
       "\n",
       "    .dataframe tbody tr th {\n",
       "        vertical-align: top;\n",
       "    }\n",
       "\n",
       "    .dataframe thead th {\n",
       "        text-align: right;\n",
       "    }\n",
       "</style>\n",
       "<table border=\"1\" class=\"dataframe\">\n",
       "  <thead>\n",
       "    <tr style=\"text-align: right;\">\n",
       "      <th></th>\n",
       "      <th>clean_text</th>\n",
       "      <th>is_depression</th>\n",
       "    </tr>\n",
       "  </thead>\n",
       "  <tbody>\n",
       "    <tr>\n",
       "      <th>0</th>\n",
       "      <td>we understand that most people who reply immed...</td>\n",
       "      <td>1</td>\n",
       "    </tr>\n",
       "    <tr>\n",
       "      <th>1</th>\n",
       "      <td>welcome to r depression s check in post a plac...</td>\n",
       "      <td>1</td>\n",
       "    </tr>\n",
       "    <tr>\n",
       "      <th>2</th>\n",
       "      <td>anyone else instead of sleeping more when depr...</td>\n",
       "      <td>1</td>\n",
       "    </tr>\n",
       "    <tr>\n",
       "      <th>3</th>\n",
       "      <td>i ve kind of stuffed around a lot in my life d...</td>\n",
       "      <td>1</td>\n",
       "    </tr>\n",
       "    <tr>\n",
       "      <th>4</th>\n",
       "      <td>sleep is my greatest and most comforting escap...</td>\n",
       "      <td>1</td>\n",
       "    </tr>\n",
       "  </tbody>\n",
       "</table>\n",
       "</div>"
      ],
      "text/plain": [
       "                                          clean_text  is_depression\n",
       "0  we understand that most people who reply immed...              1\n",
       "1  welcome to r depression s check in post a plac...              1\n",
       "2  anyone else instead of sleeping more when depr...              1\n",
       "3  i ve kind of stuffed around a lot in my life d...              1\n",
       "4  sleep is my greatest and most comforting escap...              1"
      ]
     },
     "execution_count": 3,
     "metadata": {},
     "output_type": "execute_result"
    }
   ],
   "source": [
    "df = pd.read_csv(\"depression_dataset_reddit_cleaned.csv\")\n",
    "df.head()"
   ]
  },
  {
   "cell_type": "code",
   "execution_count": 4,
   "id": "f1d428e2",
   "metadata": {
    "scrolled": true
   },
   "outputs": [
    {
     "name": "stdout",
     "output_type": "stream",
     "text": [
      "<class 'pandas.core.frame.DataFrame'>\n",
      "RangeIndex: 7731 entries, 0 to 7730\n",
      "Data columns (total 2 columns):\n",
      " #   Column         Non-Null Count  Dtype \n",
      "---  ------         --------------  ----- \n",
      " 0   clean_text     7731 non-null   object\n",
      " 1   is_depression  7731 non-null   int64 \n",
      "dtypes: int64(1), object(1)\n",
      "memory usage: 120.9+ KB\n"
     ]
    }
   ],
   "source": [
    "df.info()"
   ]
  },
  {
   "cell_type": "code",
   "execution_count": 5,
   "id": "0f527fcd",
   "metadata": {},
   "outputs": [
    {
     "data": {
      "text/plain": [
       "clean_text       0\n",
       "is_depression    0\n",
       "dtype: int64"
      ]
     },
     "execution_count": 5,
     "metadata": {},
     "output_type": "execute_result"
    }
   ],
   "source": [
    "# Missing Value Check\n",
    "df.isna().sum()"
   ]
  },
  {
   "cell_type": "code",
   "execution_count": 6,
   "id": "1272a326",
   "metadata": {},
   "outputs": [],
   "source": [
    "sentences = df['clean_text']\n",
    "labels = df['is_depression']"
   ]
  },
  {
   "cell_type": "code",
   "execution_count": 7,
   "id": "df0135b8",
   "metadata": {},
   "outputs": [
    {
     "data": {
      "text/plain": [
       "<AxesSubplot:title={'center':'Count (target)'}>"
      ]
     },
     "execution_count": 7,
     "metadata": {},
     "output_type": "execute_result"
    },
    {
     "data": {
      "image/png": "[encoded data removed]",
      "text/plain": [
       "<Figure size 432x288 with 1 Axes>"
      ]
     },
     "metadata": {
      "needs_background": "light"
     },
     "output_type": "display_data"
    }
   ],
   "source": [
    "labels.value_counts().plot(kind='bar', title='Count (target)')"
   ]
  },
  {
   "cell_type": "code",
   "execution_count": 8,
   "id": "984c5a5a",
   "metadata": {},
   "outputs": [
    {
     "data": {
      "text/plain": [
       "0       we understand that most people who reply immed...\n",
       "1       welcome to r depression s check in post a plac...\n",
       "2       anyone else instead of sleeping more when depr...\n",
       "3       i ve kind of stuffed around a lot in my life d...\n",
       "4       sleep is my greatest and most comforting escap...\n",
       "                              ...                        \n",
       "7726                                         is that snow\n",
       "7727                   moulin rouge mad me cry once again\n",
       "7728    trying to shout but can t find people on the list\n",
       "7729    ughh can t find my red sox hat got ta wear thi...\n",
       "7730    slept wonderfully finally tried swatching for ...\n",
       "Name: clean_text, Length: 7731, dtype: object"
      ]
     },
     "execution_count": 8,
     "metadata": {},
     "output_type": "execute_result"
    }
   ],
   "source": [
    "sentences.str.lower()"
   ]
  },
  {
   "cell_type": "code",
   "execution_count": 9,
   "id": "d25e3afb",
   "metadata": {},
   "outputs": [
    {
     "name": "stdout",
     "output_type": "stream",
     "text": [
      "19822\n"
     ]
    }
   ],
   "source": [
    "print(sentences.str.len().max())"
   ]
  },
  {
   "cell_type": "code",
   "execution_count": 10,
   "id": "93f73f26",
   "metadata": {},
   "outputs": [
    {
     "data": {
      "text/plain": [
       "4239"
      ]
     },
     "execution_count": 10,
     "metadata": {},
     "output_type": "execute_result"
    }
   ],
   "source": [
    "word_counts = []\n",
    "for i in range(df.shape[0]):\n",
    "    word_count = sentences[i].count(\" \") + 1\n",
    "    word_counts.append(word_count)\n",
    "max(word_counts)"
   ]
  },
  {
   "cell_type": "code",
   "execution_count": 11,
   "id": "7d2302bb",
   "metadata": {},
   "outputs": [],
   "source": [
    "training_split = 0.7"
   ]
  },
  {
   "cell_type": "markdown",
   "id": "60bbd779",
   "metadata": {},
   "source": [
    "### Split the Dataset"
   ]
  },
  {
   "cell_type": "code",
   "execution_count": 12,
   "id": "6aa10f46",
   "metadata": {},
   "outputs": [],
   "source": [
    "training_size = int(training_split * df.shape[0])\n",
    "training_sentences = sentences[:training_size]\n",
    "testing_sentences = sentences[training_size:]\n",
    "\n",
    "training_labels = labels[:training_size]\n",
    "testing_labels = labels[training_size:]"
   ]
  },
  {
   "cell_type": "markdown",
   "id": "a466b011",
   "metadata": {},
   "source": [
    "### Generate Vocabulary and Padded Sequences"
   ]
  },
  {
   "cell_type": "code",
   "execution_count": 13,
   "id": "f3f6df66",
   "metadata": {},
   "outputs": [],
   "source": [
    "from tensorflow.keras.preprocessing.text import Tokenizer\n",
    "from tensorflow.keras.preprocessing.sequence import pad_sequences\n",
    "\n",
    "trunc_type='post'\n",
    "padding_type='post'\n",
    "oov_tok = \"<OOV>\"\n",
    "max_length = 150\n",
    "vocab_size = 15000\n",
    "\n",
    "tokenizer = Tokenizer(num_words=vocab_size, oov_token=oov_tok)\n",
    "\n",
    "# Generate the word index dictionary\n",
    "tokenizer.fit_on_texts(training_sentences)\n",
    "word_index = tokenizer.word_index\n",
    "\n",
    "# Generate and pad the training sequences\n",
    "training_sequences = tokenizer.texts_to_sequences(training_sentences)\n",
    "training_padded = pad_sequences(training_sequences, maxlen=max_length, padding=padding_type, truncating=trunc_type)\n",
    "\n",
    "# Generate and pad the testing sequences\n",
    "testing_sequences = tokenizer.texts_to_sequences(testing_sentences)\n",
    "testing_padded = pad_sequences(testing_sequences, maxlen=max_length, padding=padding_type, truncating=trunc_type)\n",
    "\n",
    "# Convert the labels lists into numpy arrays\n",
    "training_labels = np.array(training_labels)\n",
    "testing_labels = np.array(testing_labels)\n"
   ]
  },
  {
   "cell_type": "markdown",
   "id": "05767ab7",
   "metadata": {},
   "source": [
    "## Build and Compile the Model"
   ]
  },
  {
   "cell_type": "code",
   "execution_count": 14,
   "id": "308ffa0e",
   "metadata": {
    "scrolled": false
   },
   "outputs": [
    {
     "name": "stdout",
     "output_type": "stream",
     "text": [
      "Model: \"sequential\"\n",
      "_________________________________________________________________\n",
      " Layer (type)                Output Shape              Param #   \n",
      "=================================================================\n",
      " embedding (Embedding)       (None, 150, 32)           480000    \n",
      "                                                                 \n",
      " conv1d (Conv1D)             (None, 146, 128)          20608     \n",
      "                                                                 \n",
      " global_average_pooling1d (G  (None, 128)              0         \n",
      " lobalAveragePooling1D)                                          \n",
      "                                                                 \n",
      " dense (Dense)               (None, 64)                8256      \n",
      "                                                                 \n",
      " dense_1 (Dense)             (None, 1)                 65        \n",
      "                                                                 \n",
      "=================================================================\n",
      "Total params: 508,929\n",
      "Trainable params: 508,929\n",
      "Non-trainable params: 0\n",
      "_________________________________________________________________\n"
     ]
    }
   ],
   "source": [
    "embedding_dim = 32\n",
    "filters = 128\n",
    "kernel_size = 5\n",
    "\n",
    "model = tf.keras.Sequential([\n",
    "    tf.keras.layers.Embedding(vocab_size, embedding_dim, input_length=max_length),\n",
    "    tf.keras.layers.Conv1D(filters, kernel_size, activation='relu'),\n",
    "#     tf.keras.layers.MaxPool1D(pool_size=16),\n",
    "    tf.keras.layers.GlobalAveragePooling1D(),\n",
    "#     tf.keras.layers.Bidirectional(tf.keras.layers.LSTM(32)),\n",
    "#     tf.keras.layers.Dropout(0.2),\n",
    "    tf.keras.layers.Dense(64, activation='relu', kernel_regularizer=tf.keras.regularizers.L1(0.01),\n",
    "    activity_regularizer=tf.keras.regularizers.L2(0.01)),\n",
    "    tf.keras.layers.Dense(1, activation='sigmoid')\n",
    "])\n",
    "\n",
    "model.compile(loss = 'binary_crossentropy', optimizer = 'adam', metrics = ['accuracy'])\n",
    "model.summary()"
   ]
  },
  {
   "cell_type": "markdown",
   "id": "5ab71a1f",
   "metadata": {},
   "source": [
    "## Train the Model"
   ]
  },
  {
   "cell_type": "code",
   "execution_count": 15,
   "id": "47aad5fb",
   "metadata": {},
   "outputs": [
    {
     "name": "stdout",
     "output_type": "stream",
     "text": [
      "Epoch 1/15\n",
      "170/170 - 4s - loss: 3.0578 - accuracy: 0.7561 - val_loss: 0.7984 - val_accuracy: 0.5780 - 4s/epoch - 22ms/step\n",
      "Epoch 2/15\n",
      "170/170 - 3s - loss: 0.4294 - accuracy: 0.8531 - val_loss: 0.5729 - val_accuracy: 0.8815 - 3s/epoch - 15ms/step\n",
      "Epoch 3/15\n",
      "170/170 - 3s - loss: 0.3391 - accuracy: 0.9070 - val_loss: 0.3301 - val_accuracy: 0.9862 - 3s/epoch - 15ms/step\n",
      "Epoch 4/15\n",
      "170/170 - 2s - loss: 0.2694 - accuracy: 0.9451 - val_loss: 0.4260 - val_accuracy: 0.9353 - 2s/epoch - 15ms/step\n",
      "Epoch 5/15\n",
      "170/170 - 3s - loss: 0.2247 - accuracy: 0.9614 - val_loss: 0.2458 - val_accuracy: 0.9849 - 3s/epoch - 15ms/step\n",
      "Epoch 6/15\n",
      "170/170 - 3s - loss: 0.1948 - accuracy: 0.9686 - val_loss: 0.2639 - val_accuracy: 0.9772 - 3s/epoch - 15ms/step\n",
      "Epoch 7/15\n",
      "170/170 - 3s - loss: 0.1744 - accuracy: 0.9719 - val_loss: 0.2276 - val_accuracy: 0.9776 - 3s/epoch - 16ms/step\n",
      "Epoch 8/15\n",
      "170/170 - 3s - loss: 0.1602 - accuracy: 0.9754 - val_loss: 0.2266 - val_accuracy: 0.9759 - 3s/epoch - 16ms/step\n",
      "Epoch 9/15\n",
      "170/170 - 3s - loss: 0.1488 - accuracy: 0.9773 - val_loss: 0.1882 - val_accuracy: 0.9819 - 3s/epoch - 16ms/step\n",
      "Epoch 10/15\n",
      "170/170 - 3s - loss: 0.1372 - accuracy: 0.9791 - val_loss: 0.1681 - val_accuracy: 0.9832 - 3s/epoch - 15ms/step\n",
      "Epoch 11/15\n",
      "170/170 - 2s - loss: 0.1295 - accuracy: 0.9815 - val_loss: 0.1568 - val_accuracy: 0.9823 - 2s/epoch - 15ms/step\n",
      "Epoch 12/15\n",
      "170/170 - 2s - loss: 0.1218 - accuracy: 0.9823 - val_loss: 0.1674 - val_accuracy: 0.9780 - 2s/epoch - 15ms/step\n",
      "Epoch 13/15\n",
      "170/170 - 3s - loss: 0.1141 - accuracy: 0.9850 - val_loss: 0.1492 - val_accuracy: 0.9828 - 3s/epoch - 15ms/step\n",
      "Epoch 14/15\n",
      "170/170 - 3s - loss: 0.1092 - accuracy: 0.9854 - val_loss: 0.1343 - val_accuracy: 0.9849 - 3s/epoch - 16ms/step\n",
      "Epoch 15/15\n",
      "170/170 - 3s - loss: 0.1042 - accuracy: 0.9858 - val_loss: 0.1815 - val_accuracy: 0.9703 - 3s/epoch - 17ms/step\n"
     ]
    }
   ],
   "source": [
    "num_epochs = 15\n",
    "\n",
    "# Train the model\n",
    "history = model.fit(training_padded, \n",
    "                    training_labels, \n",
    "                    epochs=num_epochs, \n",
    "                    validation_data=(testing_padded, testing_labels), \n",
    "                    verbose=2)"
   ]
  },
  {
   "cell_type": "code",
   "execution_count": 16,
   "id": "8ebb6d34",
   "metadata": {},
   "outputs": [
    {
     "data": {
      "image/png": "[encoded data removed]",
      "text/plain": [
       "<Figure size 432x288 with 1 Axes>"
      ]
     },
     "metadata": {
      "needs_background": "light"
     },
     "output_type": "display_data"
    },
    {
     "data": {
      "image/png": "[encoded data removed]",
      "text/plain": [
       "<Figure size 432x288 with 1 Axes>"
      ]
     },
     "metadata": {
      "needs_background": "light"
     },
     "output_type": "display_data"
    }
   ],
   "source": [
    "import matplotlib.pyplot as plt\n",
    "\n",
    "# Plot Utility\n",
    "def plot_graphs(history, metric):\n",
    "  plt.plot(history.history[metric])\n",
    "  plt.plot(history.history['val_'+metric])\n",
    "  plt.xlabel(\"Epochs\")\n",
    "  plt.ylabel(metric)\n",
    "  plt.legend([metric, 'val_'+metric])\n",
    "  plt.show()\n",
    "\n",
    "# Plot the accuracy and loss history\n",
    "plot_graphs(history, 'accuracy')\n",
    "plot_graphs(history, 'loss')"
   ]
  },
  {
   "cell_type": "code",
   "execution_count": 19,
   "id": "154ac96d",
   "metadata": {},
   "outputs": [
    {
     "name": "stdout",
     "output_type": "stream",
     "text": [
      "1/1 [==============================] - 0s 19ms/step\n"
     ]
    }
   ],
   "source": [
    "x_test = [\n",
    "    \"dear american teens question dutch person heard guys get way easier things learn age us sooooo thth graders like  right guys learn math\" \n",
    "    , \"nothing look forward lifei dont many reasons keep going feel like nothing keeps going next day makes want hang myself\"\n",
    "    , \"music recommendations im looking expand playlist usual genres alt pop minnesota hip hop steampunk various indie genres artists people like cavetown aliceband bug hunter penelope scott various rhymesayers willing explore new genresartists such anything generic rap the type exclusively sex drugs cool rapper is rap types pretty good pop popular couple years ago dunno technical genre name anyways anyone got music recommendations favorite artistssongs\"\n",
    "    , \"im done trying feel betterthe reason im still alive know mum devastated ever killed myself ever passes im still state im going hesitate ending life shortly after im almost  take meds go therapy nothing seems help enough dont want around anymore hate feeling like this wouldnt wish upon enemy brain feels like constantly like static tv wont shut overthinking do think im running options dont see living past  got accepted health science degree dont even know wanna try know im smart mental illness holds back think cant anything im good enough need fucking help dont know anymore ive run options\"\n",
    "    , \"worried  year old girl subject domestic physicalmental housewithout going lot know girl know girl etc let give brief background known girl  years lives uk live different country kept touch electronic means first girl schizophrenic host illnesses too dad severe anger issues abuses physically mentally makes serve food wash dishes clean house shouts beats petty things like spilling water picking toys floor threatened knife beats plates glasses punches head last time got beat around month ago one siblings gets beat up tried tell mother beating showed bruises too mother refuses believe even laughed off probably fear confronting him husband yells wife too family treat well either sister mean tell father put trouble family tends isolate her even remember birthday all family cold her often tend alienate since act normal girl often feels suicidal due this inflicted selfharm cut wrist starves believes way family accept her make worse two incidents life must tell about raped walking back home night initially tell parents sometime later police reports filed rape suffered false pregnancy girl symptoms disorder like lactating breasts happened early  depressed incident summer  approximately family sent couple family friends wellknown treatments advertised herbal therapy accupuncture etc however happened next terrible left alone husband wife went somewhere else guy tortured her instance made sit container filled water upto neck closed lid imagine kind stress panic would cause schizophrenic patient miscellaneous details gt gets visit psychiatrist school able hide problems psychiatrist noted girl able put front really well gt five psychiatrists past gt enjoys drawingpainting learning new languages writing poems gt depressed tends victimized mentality blames problems want report abuse due trouble family face tells stopped cutting lately problem refuses tell anyone abuse even tries defend father saying fault help her although seem extremely suicidal concern physically mental abuse girl subject everyday healthy environment anyone grow in really wish rescued clutches belligerent controlling father dysfunctional family\"\n",
    "    , \"feel like someone needs hear tonight feeling right think cant anything people keep puting listen this its your life everyone else living it someone tells unable something work get done say wrong someone says youl never make it work hard make end one make it could make putting people like that see life nobody tell cant do one tell live where love look end let climb height hope someone needed hear tonight beutiful life good night sincerely  austin zippy\"\n",
    "    , \"one best episodes entire xfiles series creepy beyond words tension suspense episode well executed entire  minutes managed almost scary entire movie episode joins ranks best episodes greats home humbug bad blood milagro best respective seasonbr br mulder scullys growing relationship put test episode really trust other episode also contains tiny scene leave romantic viewers smilingbr br mulder bring mittens\"\n",
    "]\n",
    "\n",
    "x_test_seq = tokenizer.texts_to_sequences(x_test)\n",
    "x_test_pad = pad_sequences(x_test_seq, maxlen=max_length, padding=padding_type, truncating=trunc_type)\n",
    "y_pred = model.predict(x_test_pad)"
   ]
  },
  {
   "cell_type": "code",
   "execution_count": 20,
   "id": "e620f4da",
   "metadata": {},
   "outputs": [
    {
     "name": "stdout",
     "output_type": "stream",
     "text": [
      "[[0.04045673]\n",
      " [0.15042406]\n",
      " [0.04857726]\n",
      " [0.99991703]\n",
      " [0.94661444]\n",
      " [0.99803466]\n",
      " [0.04967787]]\n"
     ]
    }
   ],
   "source": [
    "print(y_pred)"
   ]
  },
  {
   "cell_type": "code",
   "execution_count": null,
   "id": "ddb9fdff",
   "metadata": {},
   "outputs": [],
   "source": []
  }
 ],
 "metadata": {
  "kernelspec": {
   "display_name": "Python 3 (ipykernel)",
   "language": "python",
   "name": "python3"
  },
  "language_info": {
   "codemirror_mode": {
    "name": "ipython",
    "version": 3
   },
   "file_extension": ".py",
   "mimetype": "text/x-python",
   "name": "python",
   "nbconvert_exporter": "python",
   "pygments_lexer": "ipython3",
   "version": "3.9.12"
  }
 },
 "nbformat": 4,
 "nbformat_minor": 5
}
